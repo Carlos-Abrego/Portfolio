{
 "cells": [
  {
   "cell_type": "markdown",
   "id": "cfe5bb05-52ea-4180-8779-8fd322993a23",
   "metadata": {},
   "source": [
    "# Credit Card Fraud Project"
   ]
  },
  {
   "cell_type": "markdown",
   "id": "57f1019d-d6b0-40c1-b477-2e6e7214c132",
   "metadata": {},
   "source": [
    "The primary goal of this project is to develop a machine learning model that can accurately identify fraudulent credit card transactions in real time. Credit card fraud is a significant financial risk to both institutions and consumers, with millions of dollars lost annually due to fraudulent activities. Detecting these fraudulent transactions early can prevent major financial losses and improve overall security in the financial sector.\n",
    "\n",
    "Given the highly imbalanced nature of the dataset, where fraudulent transactions represent a very small proportion of the total data, this project focuses on overcoming that challenge through data resampling techniques like SMOTE. By training a robust model—such as a Random Forest Classifier—we aim to distinguish between legitimate and fraudulent transactions with high accuracy. The final model is evaluated using precision, recall, and ROC-AUC scores to ensure it can efficiently detect fraud while minimizing false positives and false negatives.\n",
    "\n",
    "In summary, this project demonstrates how machine learning techniques can be applied to risk analysis within the financial industry, providing a real-world application of identifying, assessing, and mitigating credit card fraud."
   ]
  },
  {
   "cell_type": "code",
   "execution_count": 5,
   "id": "c35d6f13-c83d-4700-82ab-ec51f35148d0",
   "metadata": {},
   "outputs": [
    {
     "name": "stdout",
     "output_type": "stream",
     "text": [
      "   Time        V1        V2        V3        V4        V5        V6        V7  \\\n",
      "0   0.0 -1.359807 -0.072781  2.536347  1.378155 -0.338321  0.462388  0.239599   \n",
      "1   0.0  1.191857  0.266151  0.166480  0.448154  0.060018 -0.082361 -0.078803   \n",
      "2   1.0 -1.358354 -1.340163  1.773209  0.379780 -0.503198  1.800499  0.791461   \n",
      "3   1.0 -0.966272 -0.185226  1.792993 -0.863291 -0.010309  1.247203  0.237609   \n",
      "4   2.0 -1.158233  0.877737  1.548718  0.403034 -0.407193  0.095921  0.592941   \n",
      "\n",
      "         V8        V9  ...       V21       V22       V23       V24       V25  \\\n",
      "0  0.098698  0.363787  ... -0.018307  0.277838 -0.110474  0.066928  0.128539   \n",
      "1  0.085102 -0.255425  ... -0.225775 -0.638672  0.101288 -0.339846  0.167170   \n",
      "2  0.247676 -1.514654  ...  0.247998  0.771679  0.909412 -0.689281 -0.327642   \n",
      "3  0.377436 -1.387024  ... -0.108300  0.005274 -0.190321 -1.175575  0.647376   \n",
      "4 -0.270533  0.817739  ... -0.009431  0.798278 -0.137458  0.141267 -0.206010   \n",
      "\n",
      "        V26       V27       V28  Amount  Class  \n",
      "0 -0.189115  0.133558 -0.021053  149.62      0  \n",
      "1  0.125895 -0.008983  0.014724    2.69      0  \n",
      "2 -0.139097 -0.055353 -0.059752  378.66      0  \n",
      "3 -0.221929  0.062723  0.061458  123.50      0  \n",
      "4  0.502292  0.219422  0.215153   69.99      0  \n",
      "\n",
      "[5 rows x 31 columns]\n"
     ]
    }
   ],
   "source": [
    "import pandas as pd\n",
    "from sklearn.model_selection import train_test_split\n",
    "from sklearn.preprocessing import StandardScaler\n",
    "from imblearn.over_sampling import SMOTE\n",
    "from sklearn.ensemble import RandomForestClassifier\n",
    "from sklearn.metrics import classification_report, confusion_matrix, roc_auc_score\n",
    "import matplotlib.pyplot as plt\n",
    "import seaborn as sns\n",
    "\n",
    "# Load the dataset\n",
    "df = pd.read_csv('creditcard.csv')\n",
    "\n",
    "# Display basic information\n",
    "print(df.head())"
   ]
  },
  {
   "cell_type": "markdown",
   "id": "c633f259-b141-4508-a3f8-90ced06d453f",
   "metadata": {},
   "source": [
    "# Data Preprocessing"
   ]
  },
  {
   "cell_type": "markdown",
   "id": "89842ae2-6c10-4fb1-988a-9ec8858c7653",
   "metadata": {},
   "source": [
    "Before moving forward with model training, we need to ensure the dataset is clean and ready for analysis:\n",
    "\n",
    "- Missing Values: We check for any missing or null values in the dataset. Fortunately, there are none, so no further imputation is necessary.\n",
    "- Class Distribution: We summarize the target variable (`Class`) to understand the distribution between fraudulent and legitimate transactions. As expected, fraudulent transactions make up a small fraction of the dataset (`~0.17%`), indicating a severe class imbalance.\n",
    "\n",
    "After that, we split the data into training and testing sets, ensuring the Amount and Time columns are scaled for better model performance."
   ]
  },
  {
   "cell_type": "code",
   "execution_count": 10,
   "id": "21176090-d12e-4f40-a804-4a1f4b1462c5",
   "metadata": {},
   "outputs": [
    {
     "name": "stdout",
     "output_type": "stream",
     "text": [
      "Time      0\n",
      "V1        0\n",
      "V2        0\n",
      "V3        0\n",
      "V4        0\n",
      "V5        0\n",
      "V6        0\n",
      "V7        0\n",
      "V8        0\n",
      "V9        0\n",
      "V10       0\n",
      "V11       0\n",
      "V12       0\n",
      "V13       0\n",
      "V14       0\n",
      "V15       0\n",
      "V16       0\n",
      "V17       0\n",
      "V18       0\n",
      "V19       0\n",
      "V20       0\n",
      "V21       0\n",
      "V22       0\n",
      "V23       0\n",
      "V24       0\n",
      "V25       0\n",
      "V26       0\n",
      "V27       0\n",
      "V28       0\n",
      "Amount    0\n",
      "Class     0\n",
      "dtype: int64\n",
      "0    0.998273\n",
      "1    0.001727\n",
      "Name: Class, dtype: float64\n"
     ]
    }
   ],
   "source": [
    "# Check for missing values (should be none)\n",
    "print(df.isnull().sum())\n",
    "\n",
    "# Summary of target variable (Class)\n",
    "print(df['Class'].value_counts(normalize=True))\n",
    "\n",
    "# Split data into features (X) and target (y)\n",
    "X = df.drop(columns=['Class'])  # Features (all except 'Class')\n",
    "y = df['Class']  # Target\n",
    "\n",
    "# Split into training and test sets (80% training, 20% testing)\n",
    "X_train, X_test, y_train, y_test = train_test_split(X, y, test_size=0.2, random_state=42, stratify=y)\n",
    "\n",
    "# Feature Scaling for 'Amount' and 'Time'\n",
    "scaler = StandardScaler()\n",
    "X_train[['Amount', 'Time']] = scaler.fit_transform(X_train[['Amount', 'Time']])\n",
    "X_test[['Amount', 'Time']] = scaler.transform(X_test[['Amount', 'Time']])"
   ]
  },
  {
   "cell_type": "markdown",
   "id": "76812bc9-5004-4477-a795-e4cb51948b83",
   "metadata": {},
   "source": [
    "# Handling Class Imbalance"
   ]
  },
  {
   "cell_type": "markdown",
   "id": "d5132015-4074-47d3-9e6c-6e13f18050f0",
   "metadata": {},
   "source": [
    "Since our dataset is heavily imbalanced, standard machine learning models might struggle to predict the minority class (`fraud`). To address this, we use `SMOTE` (`Synthetic Minority Over-sampling Technique`) to generate synthetic samples of the minority class. This helps balance the dataset, improving the model's ability to detect fraudulent transactions."
   ]
  },
  {
   "cell_type": "code",
   "execution_count": 14,
   "id": "52cbae73-cbd6-4d64-be78-6bee3382e3a5",
   "metadata": {},
   "outputs": [
    {
     "name": "stdout",
     "output_type": "stream",
     "text": [
      "0    0.5\n",
      "1    0.5\n",
      "Name: Class, dtype: float64\n"
     ]
    }
   ],
   "source": [
    "# Apply SMOTE to balance the training set\n",
    "smote = SMOTE(random_state=42)\n",
    "X_train_resampled, y_train_resampled = smote.fit_resample(X_train, y_train)\n",
    "\n",
    "# Check the distribution after resampling\n",
    "print(y_train_resampled.value_counts(normalize=True))"
   ]
  },
  {
   "cell_type": "markdown",
   "id": "1bca127a-daf3-40bc-94f1-24c14c4a98bf",
   "metadata": {},
   "source": [
    "# Model Training"
   ]
  },
  {
   "cell_type": "markdown",
   "id": "14b27dd8-e92b-4204-b61d-f1598e3fa3a8",
   "metadata": {},
   "source": [
    "We chose to train a `Random Forest Classifier` on the resampled dataset. Random Forest is an ensemble learning method that typically performs well on classification tasks, especially when feature importance and robustness are needed. After training, we use this model to make predictions on the test set."
   ]
  },
  {
   "cell_type": "code",
   "execution_count": 21,
   "id": "feed3275-05ca-44d4-8c26-b7cadda3bc90",
   "metadata": {},
   "outputs": [],
   "source": [
    "# Train a Random Forest Classifier\n",
    "clf = RandomForestClassifier(n_estimators=100, random_state=42)\n",
    "clf.fit(X_train_resampled, y_train_resampled)\n",
    "\n",
    "# Make predictions on the test set\n",
    "y_pred = clf.predict(X_test)\n",
    "y_pred_proba = clf.predict_proba(X_test)[:, 1]"
   ]
  },
  {
   "cell_type": "markdown",
   "id": "e4320f4b-ad27-4de4-8a7d-a1735fbbd72a",
   "metadata": {},
   "source": [
    "# Model Evaluation"
   ]
  },
  {
   "cell_type": "markdown",
   "id": "3360955b-3cac-486a-af6a-5f7ea994e807",
   "metadata": {},
   "source": [
    "Once the model is trained, we evaluate its performance on the test set using several metrics:\n",
    "\n",
    "- `Classification Report`: This report provides precision, recall, and F1-score, which are especially useful for imbalanced datasets like this.\n",
    "- `Confusion Matrix`: We generate a heatmap to visually represent the number of true positive, true negative, false positive, and false negative predictions.\n",
    "- `ROC-AUC Score`: This metric helps assess the model's ability to distinguish between the two classes. A higher ROC-AUC score indicates better performance."
   ]
  },
  {
   "cell_type": "code",
   "execution_count": 23,
   "id": "ea0a198b-ab5f-4b84-b0f0-1cc10585391e",
   "metadata": {},
   "outputs": [
    {
     "name": "stdout",
     "output_type": "stream",
     "text": [
      "Classification Report:\n",
      "              precision    recall  f1-score   support\n",
      "\n",
      "           0       1.00      1.00      1.00     56864\n",
      "           1       0.85      0.84      0.84        98\n",
      "\n",
      "    accuracy                           1.00     56962\n",
      "   macro avg       0.92      0.92      0.92     56962\n",
      "weighted avg       1.00      1.00      1.00     56962\n",
      "\n",
      "Confusion Matrix:\n"
     ]
    },
    {
     "data": {
      "image/png": "[encoded data removed]",
      "text/plain": [
       "<Figure size 640x480 with 2 Axes>"
      ]
     },
     "metadata": {},
     "output_type": "display_data"
    },
    {
     "name": "stdout",
     "output_type": "stream",
     "text": [
      "ROC-AUC Score: 0.9731024901519414\n"
     ]
    }
   ],
   "source": [
    "# Classification report\n",
    "print(\"Classification Report:\")\n",
    "print(classification_report(y_test, y_pred))\n",
    "\n",
    "# Confusion Matrix\n",
    "print(\"Confusion Matrix:\")\n",
    "cm = confusion_matrix(y_test, y_pred)\n",
    "sns.heatmap(cm, annot=True, fmt='d', cmap='Blues', xticklabels=['Legitimate', 'Fraud'], yticklabels=['Legitimate', 'Fraud'])\n",
    "plt.xlabel('Predicted')\n",
    "plt.ylabel('Actual')\n",
    "plt.title('Confusion Matrix')\n",
    "plt.show()\n",
    "\n",
    "# ROC-AUC Score\n",
    "roc_score = roc_auc_score(y_test, y_pred_proba)\n",
    "print(f\"ROC-AUC Score: {roc_score}\")"
   ]
  },
  {
   "cell_type": "markdown",
   "id": "c3037d27-bd67-4f0e-b504-d23d405e614c",
   "metadata": {},
   "source": [
    "The classification report provides a detailed breakdown of the model’s performance in detecting both legitimate transactions (Class = 0) and fraudulent transactions (Class = 1). Below is an interpretation of the key metrics:\n",
    "\n",
    "`Precision`: The model achieved a precision of `1.00` for legitimate transactions and `0.85` for fraudulent transactions. This means that when the model predicted a transaction as fraudulent, it was correct 85% of the time. The high precision for legitimate transactions shows the model's ability to avoid false positives.\n",
    "\n",
    "`Recall`: The recall for legitimate transactions is `1.00`, while for fraudulent transactions, it is `0.84`. This indicates that the model successfully identified 84% of the actual fraudulent transactions, although a small percentage of fraud cases were missed.\n",
    "\n",
    "`F1-Score`: The F1-score, which balances precision and recall, is `1.00` for legitimate transactions and `0.84` for fraudulent ones. This balanced performance for fraudulent transactions shows the model’s effectiveness at managing the trade-off between identifying fraud and avoiding false alarms.\n",
    "\n",
    "`Accuracy`: Overall, the model achieved an impressive accuracy of `1.00` (100%), meaning that the vast majority of the predictions were correct across the entire test set. However, this high accuracy is expected due to the large number of legitimate transactions, so other metrics like precision and recall for the minority class (fraud) are more informative.\n",
    "\n",
    "`Macro Average`: The macro average precision, recall, and F1-score are all `0.92`, which gives a balanced view of the model's performance across both classes, without being influenced by the class imbalance.\n",
    "\n",
    "`ROC-AUC Score`: The high ROC-AUC score (`0.973`) indicates excellent model performance in distinguishing between fraudulent and legitimate transactions. A score closer to 1.0 shows that the model is highly capable of separating the two classes.\n",
    "\n",
    "In summary, the model performs exceptionally well for legitimate transactions and shows strong, but slightly less perfect, performance for detecting fraud. With a precision of `85%` and a recall of `84%` for fraud, this model is highly reliable in identifying fraudulent transactions while minimizing the risk of false positives and missed fraud cases."
   ]
  },
  {
   "cell_type": "markdown",
   "id": "1bab3ced-579b-48cb-905d-320fa5bf25c1",
   "metadata": {},
   "source": [
    "# Feature Importance"
   ]
  },
  {
   "cell_type": "code",
   "execution_count": 25,
   "id": "761f9da0-e8e9-46b6-a2de-226cb69c33c3",
   "metadata": {},
   "outputs": [
    {
     "data": {
      "image/png": "[encoded data removed]",
      "text/plain": [
       "<Figure size 1000x600 with 1 Axes>"
      ]
     },
     "metadata": {},
     "output_type": "display_data"
    }
   ],
   "source": [
    "# Plot feature importance from Random Forest\n",
    "feature_importances = pd.DataFrame({'Feature': X.columns, 'Importance': clf.feature_importances_})\n",
    "feature_importances = feature_importances.sort_values('Importance', ascending=False)\n",
    "\n",
    "# Plot the top 10 important features\n",
    "plt.figure(figsize=(10, 6))\n",
    "sns.barplot(x='Importance', y='Feature', data=feature_importances.head(10))\n",
    "plt.title('Top 10 Important Features')\n",
    "plt.show()"
   ]
  },
  {
   "cell_type": "markdown",
   "id": "58dfd17d-4114-4762-92a8-2a53fd23100f",
   "metadata": {},
   "source": [
    "The bar chart above displays the top 10 most important features from the Random Forest model used for detecting credit card fraud. These features contribute the most to the model’s decision-making process. Here’s a breakdown of the results:\n",
    "\n",
    "- `V14` is the most important feature by a significant margin, with an importance score of nearly `0.20`. This suggests that V14 has the strongest influence on determining whether a transaction is fraudulent or legitimate.\n",
    "\n",
    "- `V10` and `V4` are the next most important features, with scores slightly above `0.10`. These features also play a critical role in distinguishing between fraud and non-fraud transactions, although not as strongly as V14.\n",
    "\n",
    "- `V12` and `V17` follow closely, with importance scores just below `0.10`. These features still have a substantial impact on the model’s ability to classify transactions.\n",
    "\n",
    "- `V3`, `V11`, and `V16` contribute moderately to the model’s performance, with scores in the `0.05`–`0.07` range. These features are less influential than the top ones but still valuable.\n",
    "\n",
    "- Lastly, `V2` and `V9` round out the top 10, with scores around `0.025`, indicating that while they have some impact, their influence is more limited compared to the other features."
   ]
  },
  {
   "cell_type": "markdown",
   "id": "105c9a73-2a1d-4492-b502-1809dca8dfc6",
   "metadata": {},
   "source": [
    "# Conclusion"
   ]
  },
  {
   "cell_type": "markdown",
   "id": "2dba9c6e-89cb-4822-b2b4-5cfd972833de",
   "metadata": {},
   "source": [
    "In this project, we successfully developed a machine learning model capable of detecting fraudulent credit card transactions with a high degree of accuracy. Through the application of Random Forest Classification and the use of SMOTE to handle class imbalance, we were able to address the challenges posed by the rarity of fraudulent transactions in the dataset.\n",
    "\n",
    "The model’s performance was evaluated using key metrics such as precision, recall, F1-score, and ROC-AUC score, providing a comprehensive assessment of its effectiveness in distinguishing between legitimate and fraudulent transactions. The confusion matrix further highlighted the model’s ability to minimize both false positives and false negatives, which is crucial in fraud detection scenarios.\n",
    "\n",
    "Overall, this project demonstrates the potential of machine learning in mitigating financial risk by automating and improving the accuracy of fraud detection processes. With further optimization and real-time deployment, models like this can play a critical role in safeguarding financial transactions and preventing significant monetary losses.\n",
    "\n",
    "Future work could focus on improving model performance through advanced techniques, including hyperparameter tuning, using different algorithms, and incorporating more domain-specific features."
   ]
  }
 ],
 "metadata": {
  "kernelspec": {
   "display_name": "Python 3 (ipykernel)",
   "language": "python",
   "name": "python3"
  },
  "language_info": {
   "codemirror_mode": {
    "name": "ipython",
    "version": 3
   },
   "file_extension": ".py",
   "mimetype": "text/x-python",
   "name": "python",
   "nbconvert_exporter": "python",
   "pygments_lexer": "ipython3",
   "version": "3.10.9"
  }
 },
 "nbformat": 4,
 "nbformat_minor": 5
}
